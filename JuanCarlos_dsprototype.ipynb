{
 "cells": [
  {
   "cell_type": "markdown",
   "id": "c74714db-0c31-4610-994f-0f67c695c968",
   "metadata": {},
   "source": [
    "Name: Juan Carlos González Martínez\t\t<br> \t\t\t\t\t\n",
    "Student ID: 82122300079\t\t\t<br> \t\n",
    "Course: Data Science<br> \n",
    "Final Assigment<br> \n",
    "**Predictive Model of a video game genre using Screenshots**<br> \n",
    "**Prototype Model**"
   ]
  },
  {
   "cell_type": "code",
   "execution_count": 1,
   "id": "4ccd1b7f-c407-4367-97bb-19d1013879bc",
   "metadata": {
    "scrolled": true
   },
   "outputs": [],
   "source": [
    "from PIL import Image\n",
    "import pandas as pd\n",
    "import numpy as np\n",
    "import seaborn as sns\n",
    "import random\n",
    "import cv2\n",
    "from sklearn.model_selection import train_test_split\n",
    "from sklearn.preprocessing import LabelEncoder\n",
    "from sklearn.ensemble import RandomForestClassifier\n",
    "from sklearn.metrics import confusion_matrix, classification_report\n",
    "import matplotlib.pyplot as plt"
   ]
  },
  {
   "cell_type": "code",
   "execution_count": 2,
   "id": "ddebc6f4-c9ce-4fa8-9398-536ac251cfa2",
   "metadata": {},
   "outputs": [],
   "source": [
    "#Fixing random seed for reproducibility\n",
    "SEED = 7\n",
    "random.seed(SEED)\n",
    "np.random.seed(SEED)"
   ]
  },
  {
   "cell_type": "code",
   "execution_count": 3,
   "id": "aa89fe0e-c0b4-4a69-8e86-7c87d62333c7",
   "metadata": {},
   "outputs": [],
   "source": [
    "#Reading the dataset\n",
    "df = pd.read_csv(\"dataset.csv\")"
   ]
  },
  {
   "cell_type": "code",
   "execution_count": 4,
   "id": "603aa0f5-3a1c-4843-be65-fd93380ebbed",
   "metadata": {},
   "outputs": [
    {
     "data": {
      "text/html": [
       "<div>\n",
       "<style scoped>\n",
       "    .dataframe tbody tr th:only-of-type {\n",
       "        vertical-align: middle;\n",
       "    }\n",
       "\n",
       "    .dataframe tbody tr th {\n",
       "        vertical-align: top;\n",
       "    }\n",
       "\n",
       "    .dataframe thead th {\n",
       "        text-align: right;\n",
       "    }\n",
       "</style>\n",
       "<table border=\"1\" class=\"dataframe\">\n",
       "  <thead>\n",
       "    <tr style=\"text-align: right;\">\n",
       "      <th></th>\n",
       "      <th>ImagePath</th>\n",
       "      <th>Genre</th>\n",
       "    </tr>\n",
       "  </thead>\n",
       "  <tbody>\n",
       "    <tr>\n",
       "      <th>0</th>\n",
       "      <td>data\\action\\AssasinsCreedIV\\N172135_84.jpg</td>\n",
       "      <td>action</td>\n",
       "    </tr>\n",
       "    <tr>\n",
       "      <th>1</th>\n",
       "      <td>data\\action\\AssasinsCreedIV\\N172136_85.jpg</td>\n",
       "      <td>action</td>\n",
       "    </tr>\n",
       "    <tr>\n",
       "      <th>2</th>\n",
       "      <td>data\\action\\AssasinsCreedIV\\N172137_86.jpg</td>\n",
       "      <td>action</td>\n",
       "    </tr>\n",
       "    <tr>\n",
       "      <th>3</th>\n",
       "      <td>data\\action\\AssasinsCreedIV\\N172138_87.jpg</td>\n",
       "      <td>action</td>\n",
       "    </tr>\n",
       "    <tr>\n",
       "      <th>4</th>\n",
       "      <td>data\\action\\AssasinsCreedIV\\N172139_88.jpg</td>\n",
       "      <td>action</td>\n",
       "    </tr>\n",
       "  </tbody>\n",
       "</table>\n",
       "</div>"
      ],
      "text/plain": [
       "                                    ImagePath   Genre\n",
       "0  data\\action\\AssasinsCreedIV\\N172135_84.jpg  action\n",
       "1  data\\action\\AssasinsCreedIV\\N172136_85.jpg  action\n",
       "2  data\\action\\AssasinsCreedIV\\N172137_86.jpg  action\n",
       "3  data\\action\\AssasinsCreedIV\\N172138_87.jpg  action\n",
       "4  data\\action\\AssasinsCreedIV\\N172139_88.jpg  action"
      ]
     },
     "execution_count": 4,
     "metadata": {},
     "output_type": "execute_result"
    }
   ],
   "source": [
    "df.head()"
   ]
  },
  {
   "cell_type": "code",
   "execution_count": 5,
   "id": "30be4159-0189-4f49-8740-31cdca158ece",
   "metadata": {},
   "outputs": [
    {
     "data": {
      "text/plain": [
       "array([0, 1, 2, 3, 4])"
      ]
     },
     "execution_count": 5,
     "metadata": {},
     "output_type": "execute_result"
    }
   ],
   "source": [
    "#Convert categorical feactures to numerical variables so the model can read it\n",
    "df['Genre'] = LabelEncoder().fit_transform(df['Genre'])\n",
    "\n",
    "#Check the conversion\n",
    "df['Genre'].unique()"
   ]
  },
  {
   "cell_type": "code",
   "execution_count": 6,
   "id": "4deb60e7-d435-43b8-ad52-7d7c7a55976b",
   "metadata": {},
   "outputs": [],
   "source": [
    "#Read and save images as NumPy arrays (ndarrays)\n",
    "image_data = []\n",
    "target_size = (64, 64)  #Size we want all the images to be\n",
    "for image_path in df['ImagePath']: \n",
    "    image = cv2.imread(image_path) #Read the image\n",
    "    image = cv2.resize(image, target_size)  #Resize the image to the predefined size to avoid errors when creating X\n",
    "    image_data.append(image) #Add the image to the list "
   ]
  },
  {
   "cell_type": "code",
   "execution_count": 7,
   "id": "2a8fdd7d-b90e-4ab9-b521-f1175af49b4f",
   "metadata": {},
   "outputs": [],
   "source": [
    "#Separate images and categories\n",
    "X = np.array(image_data)\n",
    "y = df['Genre']"
   ]
  },
  {
   "cell_type": "code",
   "execution_count": 8,
   "id": "ce77fa39-7171-4c4d-b387-b01d89ab54ad",
   "metadata": {},
   "outputs": [],
   "source": [
    "#70 - 30 test split\n",
    "X_train, X_test, y_train, y_test = train_test_split(X, y, test_size = 0.3, random_state = SEED, stratify = y) \n",
    "#We will use stratify so the proportion of values in produced sample is the same as the proportion of y"
   ]
  },
  {
   "cell_type": "code",
   "execution_count": 9,
   "id": "a31c910f-4c41-4535-b523-0812359f0f07",
   "metadata": {},
   "outputs": [],
   "source": [
    "#Reshape the X data to a 2D array  \n",
    "X_train = X_train.reshape((X_train.shape[0], -1)) #X_train.shape[0] returns the number of rows in X_train.\n",
    "X_test = X_test.reshape((X_test.shape[0], -1)) #-1 indicates that the size of the current dimension will be inferred based on the length of the data in the array."
   ]
  },
  {
   "cell_type": "code",
   "execution_count": 10,
   "id": "3e309f10-2a90-4d81-9eb9-7e40deaa0d38",
   "metadata": {},
   "outputs": [
    {
     "name": "stdout",
     "output_type": "stream",
     "text": [
      "building tree 1 of 20\n",
      "[Parallel(n_jobs=1)]: Done   1 tasks      | elapsed: 27.4min\n",
      "building tree 2 of 20\n",
      "[Parallel(n_jobs=1)]: Done   2 tasks      | elapsed: 58.6min\n",
      "building tree 3 of 20\n",
      "[Parallel(n_jobs=1)]: Done   3 tasks      | elapsed: 90.1min\n",
      "building tree 4 of 20\n",
      "[Parallel(n_jobs=1)]: Done   4 tasks      | elapsed: 123.9min\n",
      "building tree 5 of 20\n",
      "[Parallel(n_jobs=1)]: Done   5 tasks      | elapsed: 155.4min\n",
      "building tree 6 of 20\n",
      "[Parallel(n_jobs=1)]: Done   6 tasks      | elapsed: 188.0min\n",
      "building tree 7 of 20\n",
      "[Parallel(n_jobs=1)]: Done   7 tasks      | elapsed: 220.2min\n",
      "building tree 8 of 20\n",
      "[Parallel(n_jobs=1)]: Done   8 tasks      | elapsed: 252.9min\n",
      "building tree 9 of 20\n",
      "[Parallel(n_jobs=1)]: Done   9 tasks      | elapsed: 286.7min\n",
      "building tree 10 of 20\n",
      "[Parallel(n_jobs=1)]: Done  10 tasks      | elapsed: 318.9min\n",
      "building tree 11 of 20\n",
      "[Parallel(n_jobs=1)]: Done  11 tasks      | elapsed: 352.3min\n",
      "building tree 12 of 20\n",
      "[Parallel(n_jobs=1)]: Done  12 tasks      | elapsed: 386.3min\n",
      "building tree 13 of 20\n",
      "[Parallel(n_jobs=1)]: Done  13 tasks      | elapsed: 401.4min\n",
      "building tree 14 of 20\n",
      "[Parallel(n_jobs=1)]: Done  14 tasks      | elapsed: 420.2min\n",
      "building tree 15 of 20\n",
      "[Parallel(n_jobs=1)]: Done  15 tasks      | elapsed: 459.0min\n",
      "building tree 16 of 20\n",
      "[Parallel(n_jobs=1)]: Done  16 tasks      | elapsed: 492.1min\n",
      "building tree 17 of 20\n",
      "[Parallel(n_jobs=1)]: Done  17 tasks      | elapsed: 524.8min\n",
      "building tree 18 of 20\n",
      "[Parallel(n_jobs=1)]: Done  18 tasks      | elapsed: 559.2min\n",
      "building tree 19 of 20\n",
      "[Parallel(n_jobs=1)]: Done  19 tasks      | elapsed: 604.7min\n",
      "building tree 20 of 20\n",
      "[Parallel(n_jobs=1)]: Done  20 tasks      | elapsed: 630.2min\n",
      "[Parallel(n_jobs=1)]: Done  20 tasks      | elapsed: 630.2min\n"
     ]
    },
    {
     "data": {
      "text/html": [
       "<style>#sk-container-id-1 {color: black;}#sk-container-id-1 pre{padding: 0;}#sk-container-id-1 div.sk-toggleable {background-color: white;}#sk-container-id-1 label.sk-toggleable__label {cursor: pointer;display: block;width: 100%;margin-bottom: 0;padding: 0.3em;box-sizing: border-box;text-align: center;}#sk-container-id-1 label.sk-toggleable__label-arrow:before {content: \"▸\";float: left;margin-right: 0.25em;color: #696969;}#sk-container-id-1 label.sk-toggleable__label-arrow:hover:before {color: black;}#sk-container-id-1 div.sk-estimator:hover label.sk-toggleable__label-arrow:before {color: black;}#sk-container-id-1 div.sk-toggleable__content {max-height: 0;max-width: 0;overflow: hidden;text-align: left;background-color: #f0f8ff;}#sk-container-id-1 div.sk-toggleable__content pre {margin: 0.2em;color: black;border-radius: 0.25em;background-color: #f0f8ff;}#sk-container-id-1 input.sk-toggleable__control:checked~div.sk-toggleable__content {max-height: 200px;max-width: 100%;overflow: auto;}#sk-container-id-1 input.sk-toggleable__control:checked~label.sk-toggleable__label-arrow:before {content: \"▾\";}#sk-container-id-1 div.sk-estimator input.sk-toggleable__control:checked~label.sk-toggleable__label {background-color: #d4ebff;}#sk-container-id-1 div.sk-label input.sk-toggleable__control:checked~label.sk-toggleable__label {background-color: #d4ebff;}#sk-container-id-1 input.sk-hidden--visually {border: 0;clip: rect(1px 1px 1px 1px);clip: rect(1px, 1px, 1px, 1px);height: 1px;margin: -1px;overflow: hidden;padding: 0;position: absolute;width: 1px;}#sk-container-id-1 div.sk-estimator {font-family: monospace;background-color: #f0f8ff;border: 1px dotted black;border-radius: 0.25em;box-sizing: border-box;margin-bottom: 0.5em;}#sk-container-id-1 div.sk-estimator:hover {background-color: #d4ebff;}#sk-container-id-1 div.sk-parallel-item::after {content: \"\";width: 100%;border-bottom: 1px solid gray;flex-grow: 1;}#sk-container-id-1 div.sk-label:hover label.sk-toggleable__label {background-color: #d4ebff;}#sk-container-id-1 div.sk-serial::before {content: \"\";position: absolute;border-left: 1px solid gray;box-sizing: border-box;top: 0;bottom: 0;left: 50%;z-index: 0;}#sk-container-id-1 div.sk-serial {display: flex;flex-direction: column;align-items: center;background-color: white;padding-right: 0.2em;padding-left: 0.2em;position: relative;}#sk-container-id-1 div.sk-item {position: relative;z-index: 1;}#sk-container-id-1 div.sk-parallel {display: flex;align-items: stretch;justify-content: center;background-color: white;position: relative;}#sk-container-id-1 div.sk-item::before, #sk-container-id-1 div.sk-parallel-item::before {content: \"\";position: absolute;border-left: 1px solid gray;box-sizing: border-box;top: 0;bottom: 0;left: 50%;z-index: -1;}#sk-container-id-1 div.sk-parallel-item {display: flex;flex-direction: column;z-index: 1;position: relative;background-color: white;}#sk-container-id-1 div.sk-parallel-item:first-child::after {align-self: flex-end;width: 50%;}#sk-container-id-1 div.sk-parallel-item:last-child::after {align-self: flex-start;width: 50%;}#sk-container-id-1 div.sk-parallel-item:only-child::after {width: 0;}#sk-container-id-1 div.sk-dashed-wrapped {border: 1px dashed gray;margin: 0 0.4em 0.5em 0.4em;box-sizing: border-box;padding-bottom: 0.4em;background-color: white;}#sk-container-id-1 div.sk-label label {font-family: monospace;font-weight: bold;display: inline-block;line-height: 1.2em;}#sk-container-id-1 div.sk-label-container {text-align: center;}#sk-container-id-1 div.sk-container {/* jupyter's `normalize.less` sets `[hidden] { display: none; }` but bootstrap.min.css set `[hidden] { display: none !important; }` so we also need the `!important` here to be able to override the default hidden behavior on the sphinx rendered scikit-learn.org. See: https://github.com/scikit-learn/scikit-learn/issues/21755 */display: inline-block !important;position: relative;}#sk-container-id-1 div.sk-text-repr-fallback {display: none;}</style><div id=\"sk-container-id-1\" class=\"sk-top-container\"><div class=\"sk-text-repr-fallback\"><pre>RandomForestClassifier(max_features=None, n_estimators=20, random_state=7,\n",
       "                       verbose=50)</pre><b>In a Jupyter environment, please rerun this cell to show the HTML representation or trust the notebook. <br />On GitHub, the HTML representation is unable to render, please try loading this page with nbviewer.org.</b></div><div class=\"sk-container\" hidden><div class=\"sk-item\"><div class=\"sk-estimator sk-toggleable\"><input class=\"sk-toggleable__control sk-hidden--visually\" id=\"sk-estimator-id-1\" type=\"checkbox\" checked><label for=\"sk-estimator-id-1\" class=\"sk-toggleable__label sk-toggleable__label-arrow\">RandomForestClassifier</label><div class=\"sk-toggleable__content\"><pre>RandomForestClassifier(max_features=None, n_estimators=20, random_state=7,\n",
       "                       verbose=50)</pre></div></div></div></div></div>"
      ],
      "text/plain": [
       "RandomForestClassifier(max_features=None, n_estimators=20, random_state=7,\n",
       "                       verbose=50)"
      ]
     },
     "execution_count": 10,
     "metadata": {},
     "output_type": "execute_result"
    }
   ],
   "source": [
    "#Create model\n",
    "p_model = RandomForestClassifier(criterion = 'gini', max_features = None, n_estimators = 20, verbose = 50, random_state = SEED)\n",
    "\n",
    "#Fit the model on the training data\n",
    "p_model.fit(X_train, y_train)"
   ]
  },
  {
   "cell_type": "code",
   "execution_count": 11,
   "id": "43234af0-0a74-4044-a4b7-63539136f104",
   "metadata": {},
   "outputs": [
    {
     "name": "stdout",
     "output_type": "stream",
     "text": [
      "[Parallel(n_jobs=1)]: Done   1 tasks      | elapsed:    0.0s\n",
      "[Parallel(n_jobs=1)]: Done   2 tasks      | elapsed:    0.0s\n",
      "[Parallel(n_jobs=1)]: Done   3 tasks      | elapsed:    0.0s\n",
      "[Parallel(n_jobs=1)]: Done   4 tasks      | elapsed:    0.0s\n",
      "[Parallel(n_jobs=1)]: Done   5 tasks      | elapsed:    0.0s\n",
      "[Parallel(n_jobs=1)]: Done   6 tasks      | elapsed:    0.0s\n",
      "[Parallel(n_jobs=1)]: Done   7 tasks      | elapsed:    0.0s\n",
      "[Parallel(n_jobs=1)]: Done   8 tasks      | elapsed:    0.0s\n",
      "[Parallel(n_jobs=1)]: Done   9 tasks      | elapsed:    0.0s\n",
      "[Parallel(n_jobs=1)]: Done  10 tasks      | elapsed:    0.0s\n",
      "[Parallel(n_jobs=1)]: Done  11 tasks      | elapsed:    0.1s\n",
      "[Parallel(n_jobs=1)]: Done  12 tasks      | elapsed:    0.1s\n",
      "[Parallel(n_jobs=1)]: Done  13 tasks      | elapsed:    0.1s\n",
      "[Parallel(n_jobs=1)]: Done  14 tasks      | elapsed:    0.1s\n",
      "[Parallel(n_jobs=1)]: Done  15 tasks      | elapsed:    0.1s\n",
      "[Parallel(n_jobs=1)]: Done  16 tasks      | elapsed:    0.1s\n",
      "[Parallel(n_jobs=1)]: Done  17 tasks      | elapsed:    0.1s\n",
      "[Parallel(n_jobs=1)]: Done  18 tasks      | elapsed:    0.2s\n",
      "[Parallel(n_jobs=1)]: Done  19 tasks      | elapsed:    0.2s\n",
      "[Parallel(n_jobs=1)]: Done  20 tasks      | elapsed:    0.2s\n",
      "[Parallel(n_jobs=1)]: Done  20 tasks      | elapsed:    0.2s\n",
      "              precision    recall  f1-score   support\n",
      "\n",
      "           0       0.70      0.54      0.61      3158\n",
      "           1       0.91      0.67      0.77      2873\n",
      "           2       1.00      0.12      0.21       147\n",
      "           3       0.78      0.94      0.85     10312\n",
      "           4       0.83      0.17      0.29       745\n",
      "\n",
      "    accuracy                           0.78     17235\n",
      "   macro avg       0.84      0.49      0.55     17235\n",
      "weighted avg       0.79      0.78      0.77     17235\n",
      "\n"
     ]
    }
   ],
   "source": [
    "#Perfomance check\n",
    "predicted = p_model.predict(X_test)\n",
    "print(classification_report(y_test, predicted))"
   ]
  },
  {
   "cell_type": "code",
   "execution_count": 12,
   "id": "66dd5424-9f50-4770-8293-962a4e80e8a9",
   "metadata": {},
   "outputs": [
    {
     "data": {
      "image/png": "[encoded data removed]",
      "text/plain": [
       "<Figure size 640x480 with 2 Axes>"
      ]
     },
     "metadata": {},
     "output_type": "display_data"
    }
   ],
   "source": [
    "#Create confusion matrix from the \n",
    "c_matrix = confusion_matrix(y_test, predicted)\n",
    "\n",
    "#Display the confusion matrix\n",
    "sns.heatmap(c_matrix, annot = True, fmt = 'd', cmap = 'Reds',\n",
    "            #We want to show the confusion matrix using a red color map and with the numerical values in each cell displayed as a integer.\n",
    "            #(The numerical values will be shown thanks to annot = True)\n",
    "            xticklabels = ['Action', 'Adventure', 'Casual', 'FPS', 'Horror'], #Replace default numerical labels in the axis with the names of the categories\n",
    "            yticklabels = ['Action', 'Adventure', 'Casual', 'FPS', 'Horror'])\n",
    "\n",
    "#Assign labels to the axis\n",
    "plt.xlabel('Predicted') \n",
    "plt.ylabel('True')\n",
    "\n",
    "#Assign title to the matrix and print it\n",
    "plt.title('Confusion Matrix')\n",
    "plt.show()"
   ]
  }
 ],
 "metadata": {
  "kernelspec": {
   "display_name": "Python 3 (ipykernel)",
   "language": "python",
   "name": "python3"
  },
  "language_info": {
   "codemirror_mode": {
    "name": "ipython",
    "version": 3
   },
   "file_extension": ".py",
   "mimetype": "text/x-python",
   "name": "python",
   "nbconvert_exporter": "python",
   "pygments_lexer": "ipython3",
   "version": "3.10.2"
  }
 },
 "nbformat": 4,
 "nbformat_minor": 5
}
